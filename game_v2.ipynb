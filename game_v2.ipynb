{
 "cells": [
  {
   "cell_type": "code",
   "execution_count": 1,
   "metadata": {},
   "outputs": [
    {
     "name": "stdout",
     "output_type": "stream",
     "text": [
      "Ваш алгоритм угадывает число в среднем за: 101 попыток\n",
      "Количество попыток: 9\n"
     ]
    }
   ],
   "source": [
    "\"\"\"Игра Угадай число\n",
    "компьютер сам загадывает и сам угадывает число\"\"\"\n",
    "\n",
    "\n",
    "import numpy as np\n",
    "\n",
    "def random_predict(number: int=1)->int:\n",
    "    \"\"\"_summary(Рандомно угадываем число)_\n",
    "\n",
    "    Args:\n",
    "        number (int, optional): _description_(Загаданное число). Defaults to 1.\n",
    "\n",
    "    Returns:\n",
    "        int: _description_(число попыток)\n",
    "    \"\"\"\n",
    "    count = 0\n",
    "    while True:\n",
    "        count += 1\n",
    "        predict_number = np.random.randint(1,101) # предполагаемое число\n",
    "        if number == predict_number:\n",
    "            break #выход из цикла если угадали\n",
    "    return(count)\n",
    "\n",
    "def score_game(random_predict) -> int:\n",
    "    \"\"\"За какое количество попыток в среднем из 1000 подходов угадывает наш алгоритм\n",
    "\n",
    "    Args:\n",
    "        random_predict ([type]): функция угадывания\n",
    "\n",
    "    Returns:\n",
    "        int: среднее количество попыток\n",
    "    \"\"\"\n",
    "\n",
    "    count_ls = [] # список для сохранения количества попыток\n",
    "    np.random.seed(1) # фиксируем сид для воспроизводимости\n",
    "    random_array = np.random.randint(1, 101, size=(1000)) # загадали список чисел\n",
    "\n",
    "    for number in random_array:\n",
    "        count_ls.append(random_predict(number))\n",
    "\n",
    "    score = int(np.mean(count_ls)) # находим среднее количество попыток\n",
    "\n",
    "    print(f'Ваш алгоритм угадывает число в среднем за: {score} попыток')\n",
    "    return(score)\n",
    "\n",
    "# RUN\n",
    "score_game(random_predict)\n",
    "\n",
    "print(f'Количество попыток: {random_predict()}')\n",
    "        \n",
    "        \n",
    "        \n",
    "        "
   ]
  },
  {
   "cell_type": "code",
   "execution_count": 2,
   "metadata": {},
   "outputs": [],
   "source": [
    "import numpy as np"
   ]
  }
 ],
 "metadata": {
  "kernelspec": {
   "display_name": "Python 3.9.12 ('base')",
   "language": "python",
   "name": "python3"
  },
  "language_info": {
   "codemirror_mode": {
    "name": "ipython",
    "version": 3
   },
   "file_extension": ".py",
   "mimetype": "text/x-python",
   "name": "python",
   "nbconvert_exporter": "python",
   "pygments_lexer": "ipython3",
   "version": "3.9.12"
  },
  "orig_nbformat": 4,
  "vscode": {
   "interpreter": {
    "hash": "24eddf860ca12f42ea2e380c20f0a6472c771fe42649e2e30a696fd7d8664a4a"
   }
  }
 },
 "nbformat": 4,
 "nbformat_minor": 2
}
